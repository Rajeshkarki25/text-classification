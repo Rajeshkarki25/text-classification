{
 "cells": [
  {
   "cell_type": "code",
   "execution_count": 1,
   "id": "5b1f12a2-ef4e-4ba3-acc7-1d1bf39c1a14",
   "metadata": {
    "tags": []
   },
   "outputs": [
    {
     "name": "stderr",
     "output_type": "stream",
     "text": [
      "[nltk_data] Downloading package stopwords to\n",
      "[nltk_data]     C:\\Users\\user\\AppData\\Roaming\\nltk_data...\n",
      "[nltk_data]   Package stopwords is already up-to-date!\n"
     ]
    }
   ],
   "source": [
    "import numpy as np\n",
    "import pandas as pd\n",
    "import re,string\n",
    "import matplotlib.pyplot as plt\n",
    "from nltk.corpus import stopwords\n",
    "from nltk.stem import PorterStemmer\n",
    "from sklearn.feature_extraction.text import TfidfVectorizer\n",
    "from sklearn.pipeline import Pipeline\n",
    "from sklearn.metrics import classification_report, confusion_matrix\n",
    "from sklearn.model_selection import train_test_split\n",
    "from sklearn.feature_selection import SelectKBest, chi2\n",
    "# from sklearn.ensemble import RandomForestClassifier\n",
    "import pickle\n",
    "import nltk\n",
    "nltk.download('stopwords')\n",
    "%matplotlib inline"
   ]
  },
  {
   "cell_type": "code",
   "execution_count": 2,
   "id": "4737255d-a22d-4819-9414-081ec3e54704",
   "metadata": {
    "tags": []
   },
   "outputs": [
    {
     "data": {
      "text/html": [
       "<div>\n",
       "<style scoped>\n",
       "    .dataframe tbody tr th:only-of-type {\n",
       "        vertical-align: middle;\n",
       "    }\n",
       "\n",
       "    .dataframe tbody tr th {\n",
       "        vertical-align: top;\n",
       "    }\n",
       "\n",
       "    .dataframe thead th {\n",
       "        text-align: right;\n",
       "    }\n",
       "</style>\n",
       "<table border=\"1\" class=\"dataframe\">\n",
       "  <thead>\n",
       "    <tr style=\"text-align: right;\">\n",
       "      <th></th>\n",
       "      <th>S. No.</th>\n",
       "      <th>Message_body</th>\n",
       "      <th>Label</th>\n",
       "    </tr>\n",
       "  </thead>\n",
       "  <tbody>\n",
       "    <tr>\n",
       "      <th>294</th>\n",
       "      <td>295</td>\n",
       "      <td>Oh yeah clearly it's my fault</td>\n",
       "      <td>Non-Spam</td>\n",
       "    </tr>\n",
       "    <tr>\n",
       "      <th>582</th>\n",
       "      <td>583</td>\n",
       "      <td>goldviking (29/M) is inviting you to be his fr...</td>\n",
       "      <td>Spam</td>\n",
       "    </tr>\n",
       "    <tr>\n",
       "      <th>230</th>\n",
       "      <td>231</td>\n",
       "      <td>You'd like that wouldn't you? Jerk!</td>\n",
       "      <td>Non-Spam</td>\n",
       "    </tr>\n",
       "    <tr>\n",
       "      <th>656</th>\n",
       "      <td>657</td>\n",
       "      <td>WE REGRET TO INFORM U THAT THE NHS HAS MADE A ...</td>\n",
       "      <td>Non-Spam</td>\n",
       "    </tr>\n",
       "    <tr>\n",
       "      <th>211</th>\n",
       "      <td>212</td>\n",
       "      <td>Hmm. Shall i bring a bottle of wine to keep us...</td>\n",
       "      <td>Non-Spam</td>\n",
       "    </tr>\n",
       "    <tr>\n",
       "      <th>...</th>\n",
       "      <td>...</td>\n",
       "      <td>...</td>\n",
       "      <td>...</td>\n",
       "    </tr>\n",
       "    <tr>\n",
       "      <th>283</th>\n",
       "      <td>284</td>\n",
       "      <td>I'm still pretty weak today .. Bad day ?</td>\n",
       "      <td>Non-Spam</td>\n",
       "    </tr>\n",
       "    <tr>\n",
       "      <th>786</th>\n",
       "      <td>787</td>\n",
       "      <td>Sen told that he is going to join his uncle fi...</td>\n",
       "      <td>Non-Spam</td>\n",
       "    </tr>\n",
       "    <tr>\n",
       "      <th>918</th>\n",
       "      <td>919</td>\n",
       "      <td>We are okay. Going to sleep now. Later</td>\n",
       "      <td>Non-Spam</td>\n",
       "    </tr>\n",
       "    <tr>\n",
       "      <th>158</th>\n",
       "      <td>159</td>\n",
       "      <td>Gr8. So how do you handle the victoria island ...</td>\n",
       "      <td>Non-Spam</td>\n",
       "    </tr>\n",
       "    <tr>\n",
       "      <th>627</th>\n",
       "      <td>628</td>\n",
       "      <td>Tomarrow i want to got to court. At  &amp;lt;DECIM...</td>\n",
       "      <td>Non-Spam</td>\n",
       "    </tr>\n",
       "  </tbody>\n",
       "</table>\n",
       "<p>957 rows × 3 columns</p>\n",
       "</div>"
      ],
      "text/plain": [
       "     S. No.                                       Message_body     Label\n",
       "294     295                      Oh yeah clearly it's my fault  Non-Spam\n",
       "582     583  goldviking (29/M) is inviting you to be his fr...      Spam\n",
       "230     231                You'd like that wouldn't you? Jerk!  Non-Spam\n",
       "656     657  WE REGRET TO INFORM U THAT THE NHS HAS MADE A ...  Non-Spam\n",
       "211     212  Hmm. Shall i bring a bottle of wine to keep us...  Non-Spam\n",
       "..      ...                                                ...       ...\n",
       "283     284           I'm still pretty weak today .. Bad day ?  Non-Spam\n",
       "786     787  Sen told that he is going to join his uncle fi...  Non-Spam\n",
       "918     919             We are okay. Going to sleep now. Later  Non-Spam\n",
       "158     159  Gr8. So how do you handle the victoria island ...  Non-Spam\n",
       "627     628  Tomarrow i want to got to court. At  &lt;DECIM...  Non-Spam\n",
       "\n",
       "[957 rows x 3 columns]"
      ]
     },
     "execution_count": 2,
     "metadata": {},
     "output_type": "execute_result"
    }
   ],
   "source": [
    "df = pd.read_csv('SMS_train.csv', encoding = 'latin1')\n",
    "df = df.sample(frac = 1)\n",
    "df"
   ]
  },
  {
   "cell_type": "code",
   "execution_count": 3,
   "id": "21a31641-77ac-465b-b7b7-f48df037be1d",
   "metadata": {
    "tags": []
   },
   "outputs": [
    {
     "data": {
      "text/plain": [
       "2"
      ]
     },
     "execution_count": 3,
     "metadata": {},
     "output_type": "execute_result"
    }
   ],
   "source": [
    "#No of a categories\n",
    "len(set(df['Label']))"
   ]
  },
  {
   "cell_type": "code",
   "execution_count": 4,
   "id": "d6c27825-725b-42ad-9264-c4ea5ef89647",
   "metadata": {
    "tags": []
   },
   "outputs": [
    {
     "data": {
      "text/plain": [
       "Label\n",
       "Non-Spam    835\n",
       "Spam        122\n",
       "Name: Label, dtype: int64"
      ]
     },
     "execution_count": 4,
     "metadata": {},
     "output_type": "execute_result"
    }
   ],
   "source": [
    "df.groupby('Label').Label.count()"
   ]
  },
  {
   "cell_type": "code",
   "execution_count": 5,
   "id": "57ae018f-a43d-4900-a66c-3c95ea6ce4da",
   "metadata": {
    "tags": []
   },
   "outputs": [
    {
     "data": {
      "image/png": "[encoded data removed]",
      "text/plain": [
       "<Figure size 640x480 with 1 Axes>"
      ]
     },
     "metadata": {},
     "output_type": "display_data"
    }
   ],
   "source": [
    "#Analyzing data\n",
    "df.groupby('Label').Label.count().plot.bar()\n",
    "plt.show()"
   ]
  },
  {
   "cell_type": "code",
   "execution_count": 6,
   "id": "f82542bc-2aa2-4d8d-bc9b-9e7cd212c1a6",
   "metadata": {
    "tags": []
   },
   "outputs": [
    {
     "data": {
      "text/plain": [
       "'rofl  its true to its name'"
      ]
     },
     "execution_count": 6,
     "metadata": {},
     "output_type": "execute_result"
    }
   ],
   "source": [
    "# Data Cleaning using regex\n",
    "regs = re.sub(\"[^a-zA-Z]\", \" \", df['Message_body'][0]).lower()\n",
    "regs"
   ]
  },
  {
   "cell_type": "code",
   "execution_count": 7,
   "id": "e09ff0e2-d2db-4420-ae5e-f9b3220f0bc0",
   "metadata": {
    "tags": []
   },
   "outputs": [
    {
     "name": "stdout",
     "output_type": "stream",
     "text": [
      "['i', 'me', 'my', 'myself', 'we', 'our', 'ours', 'ourselves', 'you', \"you're\", \"you've\", \"you'll\", \"you'd\", 'your', 'yours', 'yourself', 'yourselves', 'he', 'him', 'his', 'himself', 'she', \"she's\", 'her', 'hers', 'herself', 'it', \"it's\", 'its', 'itself', 'they', 'them', 'their', 'theirs', 'themselves', 'what', 'which', 'who', 'whom', 'this', 'that', \"that'll\", 'these', 'those', 'am', 'is', 'are', 'was', 'were', 'be', 'been', 'being', 'have', 'has', 'had', 'having', 'do', 'does', 'did', 'doing', 'a', 'an', 'the', 'and', 'but', 'if', 'or', 'because', 'as', 'until', 'while', 'of', 'at', 'by', 'for', 'with', 'about', 'against', 'between', 'into', 'through', 'during', 'before', 'after', 'above', 'below', 'to', 'from', 'up', 'down', 'in', 'out', 'on', 'off', 'over', 'under', 'again', 'further', 'then', 'once', 'here', 'there', 'when', 'where', 'why', 'how', 'all', 'any', 'both', 'each', 'few', 'more', 'most', 'other', 'some', 'such', 'no', 'nor', 'not', 'only', 'own', 'same', 'so', 'than', 'too', 'very', 's', 't', 'can', 'will', 'just', 'don', \"don't\", 'should', \"should've\", 'now', 'd', 'll', 'm', 'o', 're', 've', 'y', 'ain', 'aren', \"aren't\", 'couldn', \"couldn't\", 'didn', \"didn't\", 'doesn', \"doesn't\", 'hadn', \"hadn't\", 'hasn', \"hasn't\", 'haven', \"haven't\", 'isn', \"isn't\", 'ma', 'mightn', \"mightn't\", 'mustn', \"mustn't\", 'needn', \"needn't\", 'shan', \"shan't\", 'shouldn', \"shouldn't\", 'wasn', \"wasn't\", 'weren', \"weren't\", 'won', \"won't\", 'wouldn', \"wouldn't\"]\n"
     ]
    },
    {
     "name": "stderr",
     "output_type": "stream",
     "text": [
      "[nltk_data] Downloading package stopwords to\n",
      "[nltk_data]     C:\\Users\\user\\AppData\\Roaming\\nltk_data...\n",
      "[nltk_data]   Package stopwords is already up-to-date!\n"
     ]
    }
   ],
   "source": [
    "#stop words\n",
    "nltk.download('stopwords')\n",
    "words = stopwords.words(\"english\")\n",
    "print(words)"
   ]
  },
  {
   "cell_type": "code",
   "execution_count": 8,
   "id": "cb9147b1-f4b9-4c5d-be87-814ef68db099",
   "metadata": {
    "tags": []
   },
   "outputs": [
    {
     "data": {
      "text/plain": [
       "'i am love messag'"
      ]
     },
     "execution_count": 8,
     "metadata": {},
     "output_type": "execute_result"
    }
   ],
   "source": [
    "# Data Cleaning using stemmer\n",
    "\n",
    "stemmer = PorterStemmer()\n",
    "data = \"I am loving messageing\".split()\n",
    "\" \".join([stemmer.stem(i) for i in data])\n",
    "# stemmer.stem(\"\")"
   ]
  },
  {
   "cell_type": "code",
   "execution_count": 9,
   "id": "5925a51c-d3cc-43d5-9698-b2b969a8713c",
   "metadata": {
    "tags": []
   },
   "outputs": [
    {
     "data": {
      "text/plain": [
       "'rofl true name'"
      ]
     },
     "execution_count": 9,
     "metadata": {},
     "output_type": "execute_result"
    }
   ],
   "source": [
    "words = stopwords.words(\"english\")\n",
    "without_stop_words_of_a_news = \" \".join([i for i in regs.lower().split() if i not in words])\n",
    "without_stop_words_of_a_news"
   ]
  },
  {
   "cell_type": "code",
   "execution_count": 10,
   "id": "2511431b-a69f-4657-a196-bfcb086fc569",
   "metadata": {
    "tags": []
   },
   "outputs": [
    {
     "data": {
      "text/html": [
       "<div>\n",
       "<style scoped>\n",
       "    .dataframe tbody tr th:only-of-type {\n",
       "        vertical-align: middle;\n",
       "    }\n",
       "\n",
       "    .dataframe tbody tr th {\n",
       "        vertical-align: top;\n",
       "    }\n",
       "\n",
       "    .dataframe thead th {\n",
       "        text-align: right;\n",
       "    }\n",
       "</style>\n",
       "<table border=\"1\" class=\"dataframe\">\n",
       "  <thead>\n",
       "    <tr style=\"text-align: right;\">\n",
       "      <th></th>\n",
       "      <th>S. No.</th>\n",
       "      <th>Message_body</th>\n",
       "      <th>Label</th>\n",
       "      <th>cleaned</th>\n",
       "    </tr>\n",
       "  </thead>\n",
       "  <tbody>\n",
       "    <tr>\n",
       "      <th>294</th>\n",
       "      <td>295</td>\n",
       "      <td>Oh yeah clearly it's my fault</td>\n",
       "      <td>Non-Spam</td>\n",
       "      <td>oh yeah clearli it' my fault</td>\n",
       "    </tr>\n",
       "    <tr>\n",
       "      <th>582</th>\n",
       "      <td>583</td>\n",
       "      <td>goldviking (29/M) is inviting you to be his fr...</td>\n",
       "      <td>Spam</td>\n",
       "      <td>goldvik (29/m) is invit you to be hi friend. r...</td>\n",
       "    </tr>\n",
       "    <tr>\n",
       "      <th>230</th>\n",
       "      <td>231</td>\n",
       "      <td>You'd like that wouldn't you? Jerk!</td>\n",
       "      <td>Non-Spam</td>\n",
       "      <td>you'd like that wouldn't you? jerk!</td>\n",
       "    </tr>\n",
       "    <tr>\n",
       "      <th>656</th>\n",
       "      <td>657</td>\n",
       "      <td>WE REGRET TO INFORM U THAT THE NHS HAS MADE A ...</td>\n",
       "      <td>Non-Spam</td>\n",
       "      <td>we regret to inform u that the nh ha made a mi...</td>\n",
       "    </tr>\n",
       "    <tr>\n",
       "      <th>211</th>\n",
       "      <td>212</td>\n",
       "      <td>Hmm. Shall i bring a bottle of wine to keep us...</td>\n",
       "      <td>Non-Spam</td>\n",
       "      <td>hmm. shall i bring a bottl of wine to keep us ...</td>\n",
       "    </tr>\n",
       "    <tr>\n",
       "      <th>...</th>\n",
       "      <td>...</td>\n",
       "      <td>...</td>\n",
       "      <td>...</td>\n",
       "      <td>...</td>\n",
       "    </tr>\n",
       "    <tr>\n",
       "      <th>283</th>\n",
       "      <td>284</td>\n",
       "      <td>I'm still pretty weak today .. Bad day ?</td>\n",
       "      <td>Non-Spam</td>\n",
       "      <td>i'm still pretti weak today .. bad day ?</td>\n",
       "    </tr>\n",
       "    <tr>\n",
       "      <th>786</th>\n",
       "      <td>787</td>\n",
       "      <td>Sen told that he is going to join his uncle fi...</td>\n",
       "      <td>Non-Spam</td>\n",
       "      <td>sen told that he is go to join hi uncl financ ...</td>\n",
       "    </tr>\n",
       "    <tr>\n",
       "      <th>918</th>\n",
       "      <td>919</td>\n",
       "      <td>We are okay. Going to sleep now. Later</td>\n",
       "      <td>Non-Spam</td>\n",
       "      <td>we are okay. go to sleep now. later</td>\n",
       "    </tr>\n",
       "    <tr>\n",
       "      <th>158</th>\n",
       "      <td>159</td>\n",
       "      <td>Gr8. So how do you handle the victoria island ...</td>\n",
       "      <td>Non-Spam</td>\n",
       "      <td>gr8. so how do you handl the victoria island t...</td>\n",
       "    </tr>\n",
       "    <tr>\n",
       "      <th>627</th>\n",
       "      <td>628</td>\n",
       "      <td>Tomarrow i want to got to court. At  &amp;lt;DECIM...</td>\n",
       "      <td>Non-Spam</td>\n",
       "      <td>tomarrow i want to got to court. at &amp;lt;decima...</td>\n",
       "    </tr>\n",
       "  </tbody>\n",
       "</table>\n",
       "<p>957 rows × 4 columns</p>\n",
       "</div>"
      ],
      "text/plain": [
       "     S. No.                                       Message_body     Label  \\\n",
       "294     295                      Oh yeah clearly it's my fault  Non-Spam   \n",
       "582     583  goldviking (29/M) is inviting you to be his fr...      Spam   \n",
       "230     231                You'd like that wouldn't you? Jerk!  Non-Spam   \n",
       "656     657  WE REGRET TO INFORM U THAT THE NHS HAS MADE A ...  Non-Spam   \n",
       "211     212  Hmm. Shall i bring a bottle of wine to keep us...  Non-Spam   \n",
       "..      ...                                                ...       ...   \n",
       "283     284           I'm still pretty weak today .. Bad day ?  Non-Spam   \n",
       "786     787  Sen told that he is going to join his uncle fi...  Non-Spam   \n",
       "918     919             We are okay. Going to sleep now. Later  Non-Spam   \n",
       "158     159  Gr8. So how do you handle the victoria island ...  Non-Spam   \n",
       "627     628  Tomarrow i want to got to court. At  &lt;DECIM...  Non-Spam   \n",
       "\n",
       "                                               cleaned  \n",
       "294                       oh yeah clearli it' my fault  \n",
       "582  goldvik (29/m) is invit you to be hi friend. r...  \n",
       "230                you'd like that wouldn't you? jerk!  \n",
       "656  we regret to inform u that the nh ha made a mi...  \n",
       "211  hmm. shall i bring a bottl of wine to keep us ...  \n",
       "..                                                 ...  \n",
       "283           i'm still pretti weak today .. bad day ?  \n",
       "786  sen told that he is go to join hi uncl financ ...  \n",
       "918                we are okay. go to sleep now. later  \n",
       "158  gr8. so how do you handl the victoria island t...  \n",
       "627  tomarrow i want to got to court. at &lt;decima...  \n",
       "\n",
       "[957 rows x 4 columns]"
      ]
     },
     "execution_count": 10,
     "metadata": {},
     "output_type": "execute_result"
    }
   ],
   "source": [
    "df['cleaned'] = list(filter(lambda x: [i for i in re.sub(\"[^a-zA-Z]\", \" \", x)],df['Message_body']))\n",
    "df['cleaned'] = df['cleaned'].apply(lambda x: \" \".join([stemmer.stem(i) for i in x.lower().split()]))\n",
    "df"
   ]
  },
  {
   "cell_type": "code",
   "execution_count": 11,
   "id": "10619f99-35c7-4ad7-b6ea-2c4d557e1c43",
   "metadata": {
    "tags": []
   },
   "outputs": [
    {
     "name": "stderr",
     "output_type": "stream",
     "text": [
      "[nltk_data] Downloading package stopwords to\n",
      "[nltk_data]     C:\\Users\\user\\AppData\\Roaming\\nltk_data...\n",
      "[nltk_data]   Package stopwords is already up-to-date!\n"
     ]
    },
    {
     "data": {
      "text/html": [
       "<div>\n",
       "<style scoped>\n",
       "    .dataframe tbody tr th:only-of-type {\n",
       "        vertical-align: middle;\n",
       "    }\n",
       "\n",
       "    .dataframe tbody tr th {\n",
       "        vertical-align: top;\n",
       "    }\n",
       "\n",
       "    .dataframe thead th {\n",
       "        text-align: right;\n",
       "    }\n",
       "</style>\n",
       "<table border=\"1\" class=\"dataframe\">\n",
       "  <thead>\n",
       "    <tr style=\"text-align: right;\">\n",
       "      <th></th>\n",
       "      <th>S. No.</th>\n",
       "      <th>Message_body</th>\n",
       "      <th>Label</th>\n",
       "      <th>cleaned</th>\n",
       "    </tr>\n",
       "  </thead>\n",
       "  <tbody>\n",
       "    <tr>\n",
       "      <th>294</th>\n",
       "      <td>295</td>\n",
       "      <td>Oh yeah clearly it's my fault</td>\n",
       "      <td>Non-Spam</td>\n",
       "      <td>oh yeah clearli fault</td>\n",
       "    </tr>\n",
       "    <tr>\n",
       "      <th>582</th>\n",
       "      <td>583</td>\n",
       "      <td>goldviking (29/M) is inviting you to be his fr...</td>\n",
       "      <td>Spam</td>\n",
       "      <td>goldvik invit hi friend repli ye see www sm ac...</td>\n",
       "    </tr>\n",
       "    <tr>\n",
       "      <th>230</th>\n",
       "      <td>231</td>\n",
       "      <td>You'd like that wouldn't you? Jerk!</td>\n",
       "      <td>Non-Spam</td>\n",
       "      <td>like jerk</td>\n",
       "    </tr>\n",
       "    <tr>\n",
       "      <th>656</th>\n",
       "      <td>657</td>\n",
       "      <td>WE REGRET TO INFORM U THAT THE NHS HAS MADE A ...</td>\n",
       "      <td>Non-Spam</td>\n",
       "      <td>regret inform u nh ha made mistak u never actu...</td>\n",
       "    </tr>\n",
       "    <tr>\n",
       "      <th>211</th>\n",
       "      <td>212</td>\n",
       "      <td>Hmm. Shall i bring a bottle of wine to keep us...</td>\n",
       "      <td>Non-Spam</td>\n",
       "      <td>hmm shall bring bottl wine keep us amus joke s...</td>\n",
       "    </tr>\n",
       "    <tr>\n",
       "      <th>...</th>\n",
       "      <td>...</td>\n",
       "      <td>...</td>\n",
       "      <td>...</td>\n",
       "      <td>...</td>\n",
       "    </tr>\n",
       "    <tr>\n",
       "      <th>283</th>\n",
       "      <td>284</td>\n",
       "      <td>I'm still pretty weak today .. Bad day ?</td>\n",
       "      <td>Non-Spam</td>\n",
       "      <td>still pretti weak today bad day</td>\n",
       "    </tr>\n",
       "    <tr>\n",
       "      <th>786</th>\n",
       "      <td>787</td>\n",
       "      <td>Sen told that he is going to join his uncle fi...</td>\n",
       "      <td>Non-Spam</td>\n",
       "      <td>sen told go join hi uncl financ cbe</td>\n",
       "    </tr>\n",
       "    <tr>\n",
       "      <th>918</th>\n",
       "      <td>919</td>\n",
       "      <td>We are okay. Going to sleep now. Later</td>\n",
       "      <td>Non-Spam</td>\n",
       "      <td>okay go sleep later</td>\n",
       "    </tr>\n",
       "    <tr>\n",
       "      <th>158</th>\n",
       "      <td>159</td>\n",
       "      <td>Gr8. So how do you handle the victoria island ...</td>\n",
       "      <td>Non-Spam</td>\n",
       "      <td>gr handl victoria island traffic plu album due</td>\n",
       "    </tr>\n",
       "    <tr>\n",
       "      <th>627</th>\n",
       "      <td>628</td>\n",
       "      <td>Tomarrow i want to got to court. At  &amp;lt;DECIM...</td>\n",
       "      <td>Non-Spam</td>\n",
       "      <td>tomarrow want got court lt decim gt come bu stand</td>\n",
       "    </tr>\n",
       "  </tbody>\n",
       "</table>\n",
       "<p>957 rows × 4 columns</p>\n",
       "</div>"
      ],
      "text/plain": [
       "     S. No.                                       Message_body     Label  \\\n",
       "294     295                      Oh yeah clearly it's my fault  Non-Spam   \n",
       "582     583  goldviking (29/M) is inviting you to be his fr...      Spam   \n",
       "230     231                You'd like that wouldn't you? Jerk!  Non-Spam   \n",
       "656     657  WE REGRET TO INFORM U THAT THE NHS HAS MADE A ...  Non-Spam   \n",
       "211     212  Hmm. Shall i bring a bottle of wine to keep us...  Non-Spam   \n",
       "..      ...                                                ...       ...   \n",
       "283     284           I'm still pretty weak today .. Bad day ?  Non-Spam   \n",
       "786     787  Sen told that he is going to join his uncle fi...  Non-Spam   \n",
       "918     919             We are okay. Going to sleep now. Later  Non-Spam   \n",
       "158     159  Gr8. So how do you handle the victoria island ...  Non-Spam   \n",
       "627     628  Tomarrow i want to got to court. At  &lt;DECIM...  Non-Spam   \n",
       "\n",
       "                                               cleaned  \n",
       "294                              oh yeah clearli fault  \n",
       "582  goldvik invit hi friend repli ye see www sm ac...  \n",
       "230                                          like jerk  \n",
       "656  regret inform u nh ha made mistak u never actu...  \n",
       "211  hmm shall bring bottl wine keep us amus joke s...  \n",
       "..                                                 ...  \n",
       "283                    still pretti weak today bad day  \n",
       "786                sen told go join hi uncl financ cbe  \n",
       "918                                okay go sleep later  \n",
       "158     gr handl victoria island traffic plu album due  \n",
       "627  tomarrow want got court lt decim gt come bu stand  \n",
       "\n",
       "[957 rows x 4 columns]"
      ]
     },
     "execution_count": 11,
     "metadata": {},
     "output_type": "execute_result"
    }
   ],
   "source": [
    "#cleaning dataset\n",
    "nltk.download('stopwords')\n",
    "stemmer = PorterStemmer()\n",
    "words = stopwords.words(\"english\")\n",
    "words.extend(['a','an','the'])\n",
    "df['cleaned'] = df['cleaned'].apply(lambda x: \" \".join([stemmer.stem(i) for i in re.sub(\"[^a-zA-Z]\", \" \", x.lower()).split() if i not in words]).lower())\n",
    "# df['newcleaned'] = [(i for i in list(df['cleaned'])).split() if i not in words ]\n",
    "df"
   ]
  },
  {
   "cell_type": "code",
   "execution_count": 12,
   "id": "ea8591d2-0b1a-4fe0-a094-7012db169c03",
   "metadata": {
    "tags": []
   },
   "outputs": [],
   "source": [
    "df.to_csv('cleaned_news.csv')"
   ]
  },
  {
   "cell_type": "code",
   "execution_count": 13,
   "id": "9b74e9ad-47a2-46a3-bcc7-390530780404",
   "metadata": {
    "tags": []
   },
   "outputs": [],
   "source": [
    "# Training model\n",
    "from sklearn.linear_model import LogisticRegression\n",
    "log_regression = LogisticRegression()\n",
    "\n",
    "vectorizer = TfidfVectorizer(stop_words=\"english\")\n",
    "X = df['cleaned']\n",
    "Y = df['Label']\n",
    "\n",
    "X_train, X_test, y_train, y_test = train_test_split(X, Y, test_size=0.15) #Splitting dataset\n",
    "\n",
    "# #Creating Pipeline\n",
    "pipeline = Pipeline([('vect', vectorizer),\n",
    "                     ('chi',  SelectKBest(chi2, k=2000)),\n",
    "                     ('clf', LogisticRegression(random_state=1))])\n",
    "\n",
    "# from sklearn.pipeline import Pipeline\n",
    "# from sklearn.svm import SVC\n",
    "# pipeline = Pipeline([\n",
    "#     ('bow', CountVectorizer(analyzer=text_process)),  # strings to token integer counts\n",
    "#     ('tfidf', TfidfTransformer()),  # integer counts to weighted TF-IDF scores\n",
    "#     ('classifier', SVC()),  # train on TF-IDF vectors w/ SVM\n",
    "# ])\n",
    "\n",
    "\n",
    "# #Training model\n",
    "model = pipeline.fit(X_train, y_train)\n",
    "\n",
    "# #Creating pickle file\n",
    "# with open('LogisticRegression.pickle', 'wb') as f:\n",
    "#     pickle.dump(model, f)"
   ]
  },
  {
   "cell_type": "code",
   "execution_count": 14,
   "id": "aefa4df3-753b-4f49-979f-9a8d2ffbac50",
   "metadata": {
    "tags": []
   },
   "outputs": [
    {
     "name": "stdout",
     "output_type": "stream",
     "text": [
      "109                            ok thk got u wan come wat\n",
      "321                      u come n search tat vid finishd\n",
      "179                                  watch ajith film ah\n",
      "476         fri ah oki lor goin drivin den go shoppin tt\n",
      "446     enufcredeit tocal shal ileav uni get bu yor hous\n",
      "                             ...                        \n",
      "717    either way work lt gt year old hope doesnt bother\n",
      "513    doubl min doubl txt price liner latest orang b...\n",
      "290    helloooo wake sweet morn welcom enjoy thi day ...\n",
      "509                  geeeee internet realli bad today eh\n",
      "139                                        wa pay attent\n",
      "Name: cleaned, Length: 144, dtype: object 109    Non-Spam\n",
      "321    Non-Spam\n",
      "179    Non-Spam\n",
      "476    Non-Spam\n",
      "446    Non-Spam\n",
      "         ...   \n",
      "717    Non-Spam\n",
      "513        Spam\n",
      "290    Non-Spam\n",
      "509    Non-Spam\n",
      "139    Non-Spam\n",
      "Name: Label, Length: 144, dtype: object\n"
     ]
    }
   ],
   "source": [
    "print(X_test,y_test)"
   ]
  },
  {
   "cell_type": "code",
   "execution_count": 15,
   "id": "44c9470d-3777-4194-9de6-27cdea8527fa",
   "metadata": {
    "tags": []
   },
   "outputs": [
    {
     "name": "stdout",
     "output_type": "stream",
     "text": [
      "0.9305555555555556\n",
      "\n",
      "\n",
      "['Non-Spam' 'Non-Spam' 'Non-Spam' 'Non-Spam' 'Non-Spam' 'Non-Spam'\n",
      " 'Non-Spam' 'Non-Spam' 'Non-Spam' 'Non-Spam' 'Non-Spam' 'Non-Spam'\n",
      " 'Non-Spam' 'Non-Spam' 'Non-Spam' 'Non-Spam' 'Non-Spam' 'Non-Spam'\n",
      " 'Non-Spam' 'Non-Spam' 'Non-Spam' 'Non-Spam' 'Non-Spam' 'Non-Spam'\n",
      " 'Non-Spam' 'Non-Spam' 'Non-Spam' 'Non-Spam' 'Non-Spam' 'Non-Spam'\n",
      " 'Non-Spam' 'Non-Spam' 'Non-Spam' 'Non-Spam' 'Non-Spam' 'Non-Spam'\n",
      " 'Non-Spam' 'Non-Spam' 'Non-Spam' 'Non-Spam' 'Non-Spam' 'Non-Spam'\n",
      " 'Non-Spam' 'Non-Spam' 'Non-Spam' 'Non-Spam' 'Non-Spam' 'Non-Spam'\n",
      " 'Non-Spam' 'Non-Spam' 'Non-Spam' 'Non-Spam' 'Non-Spam' 'Non-Spam'\n",
      " 'Non-Spam' 'Non-Spam' 'Non-Spam' 'Non-Spam' 'Non-Spam' 'Non-Spam'\n",
      " 'Non-Spam' 'Non-Spam' 'Non-Spam' 'Non-Spam' 'Non-Spam' 'Non-Spam'\n",
      " 'Non-Spam' 'Non-Spam' 'Non-Spam' 'Non-Spam' 'Spam' 'Non-Spam' 'Non-Spam'\n",
      " 'Non-Spam' 'Non-Spam' 'Non-Spam' 'Non-Spam' 'Non-Spam' 'Non-Spam'\n",
      " 'Non-Spam' 'Non-Spam' 'Non-Spam' 'Non-Spam' 'Non-Spam' 'Non-Spam'\n",
      " 'Non-Spam' 'Spam' 'Non-Spam' 'Spam' 'Non-Spam' 'Non-Spam' 'Non-Spam'\n",
      " 'Non-Spam' 'Non-Spam' 'Non-Spam' 'Non-Spam' 'Spam' 'Non-Spam' 'Non-Spam'\n",
      " 'Non-Spam' 'Non-Spam' 'Non-Spam' 'Non-Spam' 'Non-Spam' 'Non-Spam'\n",
      " 'Non-Spam' 'Non-Spam' 'Non-Spam' 'Non-Spam' 'Non-Spam' 'Non-Spam'\n",
      " 'Non-Spam' 'Non-Spam' 'Non-Spam' 'Non-Spam' 'Non-Spam' 'Non-Spam'\n",
      " 'Non-Spam' 'Non-Spam' 'Non-Spam' 'Non-Spam' 'Non-Spam' 'Non-Spam'\n",
      " 'Non-Spam' 'Non-Spam' 'Non-Spam' 'Spam' 'Non-Spam' 'Non-Spam' 'Non-Spam'\n",
      " 'Non-Spam' 'Non-Spam' 'Non-Spam' 'Non-Spam' 'Non-Spam' 'Non-Spam'\n",
      " 'Non-Spam' 'Non-Spam' 'Non-Spam' 'Non-Spam' 'Non-Spam' 'Non-Spam'\n",
      " 'Non-Spam' 'Non-Spam']\n"
     ]
    }
   ],
   "source": [
    "#Accuracy\n",
    "from sklearn.metrics import accuracy_score\n",
    "predict_news_cat = model.predict(X_test)\n",
    "print(accuracy_score(y_test,predict_news_cat))\n",
    "print('\\n')\n",
    "print(predict_news_cat)"
   ]
  },
  {
   "cell_type": "code",
   "execution_count": 19,
   "id": "18cf42e3-55fc-4969-9a73-b687a8d1a59e",
   "metadata": {
    "tags": []
   },
   "outputs": [
    {
     "name": "stdout",
     "output_type": "stream",
     "text": [
      "Predicted news category =  Non-Spam\n"
     ]
    }
   ],
   "source": [
    "file = open('news1.txt','r')\n",
    "news = file.read()\n",
    "file.close()\n",
    "# news = input(\"Enter news = \")\n",
    "news_data = {'predict_news':[news]}\n",
    "news_data_df = pd.DataFrame(news_data)\n",
    "\n",
    "predict_news_cat = model.predict(news_data_df['predict_news'])\n",
    "print(\"Predicted news category = \",predict_news_cat[0])"
   ]
  },
  {
   "cell_type": "code",
   "execution_count": 17,
   "id": "46d3e97c-ec66-4a72-ae13-680476529be9",
   "metadata": {
    "tags": []
   },
   "outputs": [
    {
     "name": "stdout",
     "output_type": "stream",
     "text": [
      "              precision    recall  f1-score   support\n",
      "\n",
      "    Non-Spam       1.00      0.93      0.96       139\n",
      "        Spam       0.33      1.00      0.50         5\n",
      "\n",
      "    accuracy                           0.93       144\n",
      "   macro avg       0.67      0.96      0.73       144\n",
      "weighted avg       0.98      0.93      0.95       144\n",
      "\n",
      "[[129  10]\n",
      " [  0   5]]\n"
     ]
    }
   ],
   "source": [
    "# confusion matrix and classification report(precision, recall, F1-score)\n",
    "ytest = np.array(y_test)\n",
    "print(classification_report(model.predict(X_test),ytest))\n",
    "print(confusion_matrix(model.predict(X_test),ytest))"
   ]
  },
  {
   "cell_type": "code",
   "execution_count": 18,
   "id": "bb5e9e18-0fbc-4955-a61f-877787006385",
   "metadata": {
    "tags": []
   },
   "outputs": [
    {
     "data": {
      "image/png": "[encoded data removed]",
      "text/plain": [
       "<Figure size 800x800 with 2 Axes>"
      ]
     },
     "metadata": {},
     "output_type": "display_data"
    }
   ],
   "source": [
    "import matplotlib.pyplot as plt\n",
    "from sklearn.metrics import ConfusionMatrixDisplay\n",
    "cm = confusion_matrix(model.predict(X_test),ytest)\n",
    "# Change figure size and increase dpi for better resolution\n",
    "# and get reference to axes object\n",
    "fig, ax = plt.subplots(figsize=(8,8), dpi=100)\n",
    "class_names = ['Non-spam','Spam']\n",
    "# initialize using the raw 2D confusion matrix\n",
    "# and output labels (in our case, it's 0 and 1)\n",
    "display = ConfusionMatrixDisplay(cm, display_labels=class_names)\n",
    "\n",
    "# set the plot title using the axes object\n",
    "ax.set(title='Confusion Matrix for the text classification')\n",
    "\n",
    "# show the plot.\n",
    "# Pass the parameter ax to show customizations (ex. title)\n",
    "display.plot(ax=ax);"
   ]
  },
  {
   "cell_type": "code",
   "execution_count": null,
   "id": "1c826206-beca-4f63-a182-9ea6a344585d",
   "metadata": {},
   "outputs": [],
   "source": []
  }
 ],
 "metadata": {
  "kernelspec": {
   "display_name": "Python 3 (ipykernel)",
   "language": "python",
   "name": "python3"
  },
  "language_info": {
   "codemirror_mode": {
    "name": "ipython",
    "version": 3
   },
   "file_extension": ".py",
   "mimetype": "text/x-python",
   "name": "python",
   "nbconvert_exporter": "python",
   "pygments_lexer": "ipython3",
   "version": "3.11.5"
  }
 },
 "nbformat": 4,
 "nbformat_minor": 5
}
