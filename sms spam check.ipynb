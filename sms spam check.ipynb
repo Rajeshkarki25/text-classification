{
 "cells": [
  {
   "cell_type": "code",
   "execution_count": 1,
   "id": "0ee6e752-180b-4c08-8115-3f8d188018c0",
   "metadata": {
    "tags": []
   },
   "outputs": [
    {
     "name": "stderr",
     "output_type": "stream",
     "text": [
      "[nltk_data] Downloading package stopwords to\n",
      "[nltk_data]     C:\\Users\\user\\AppData\\Roaming\\nltk_data...\n",
      "[nltk_data]   Package stopwords is already up-to-date!\n"
     ]
    }
   ],
   "source": [
    "import numpy as np\n",
    "import pandas as pd\n",
    "import re,string\n",
    "import matplotlib.pyplot as plt\n",
    "from nltk.corpus import stopwords\n",
    "from nltk.stem import PorterStemmer\n",
    "from sklearn.feature_extraction.text import TfidfVectorizer\n",
    "from sklearn.pipeline import Pipeline\n",
    "from sklearn.metrics import classification_report, confusion_matrix\n",
    "from sklearn.model_selection import train_test_split\n",
    "from sklearn.feature_selection import SelectKBest, chi2\n",
    "# from sklearn.ensemble import RandomForestClassifier\n",
    "import pickle\n",
    "import nltk\n",
    "nltk.download('stopwords')\n",
    "%matplotlib inline"
   ]
  },
  {
   "cell_type": "code",
   "execution_count": 2,
   "id": "5afba50e-02cf-4758-bfff-4847b766ed04",
   "metadata": {
    "tags": []
   },
   "outputs": [
    {
     "data": {
      "text/html": [
       "<div>\n",
       "<style scoped>\n",
       "    .dataframe tbody tr th:only-of-type {\n",
       "        vertical-align: middle;\n",
       "    }\n",
       "\n",
       "    .dataframe tbody tr th {\n",
       "        vertical-align: top;\n",
       "    }\n",
       "\n",
       "    .dataframe thead th {\n",
       "        text-align: right;\n",
       "    }\n",
       "</style>\n",
       "<table border=\"1\" class=\"dataframe\">\n",
       "  <thead>\n",
       "    <tr style=\"text-align: right;\">\n",
       "      <th></th>\n",
       "      <th>sms</th>\n",
       "      <th>label</th>\n",
       "    </tr>\n",
       "  </thead>\n",
       "  <tbody>\n",
       "    <tr>\n",
       "      <th>3905</th>\n",
       "      <td>Your 2004 account for 07XXXXXXXXX shows 786 un...</td>\n",
       "      <td>1</td>\n",
       "    </tr>\n",
       "    <tr>\n",
       "      <th>4947</th>\n",
       "      <td>I'm already back home so no probably not\\n</td>\n",
       "      <td>0</td>\n",
       "    </tr>\n",
       "    <tr>\n",
       "      <th>2104</th>\n",
       "      <td>Its a site to simulate the test. It just gives...</td>\n",
       "      <td>0</td>\n",
       "    </tr>\n",
       "    <tr>\n",
       "      <th>3189</th>\n",
       "      <td>This is the 2nd time we have tried 2 contact u...</td>\n",
       "      <td>1</td>\n",
       "    </tr>\n",
       "    <tr>\n",
       "      <th>58</th>\n",
       "      <td>Tell where you reached\\n</td>\n",
       "      <td>0</td>\n",
       "    </tr>\n",
       "    <tr>\n",
       "      <th>...</th>\n",
       "      <td>...</td>\n",
       "      <td>...</td>\n",
       "    </tr>\n",
       "    <tr>\n",
       "      <th>3805</th>\n",
       "      <td>No dude, its not fake..my frnds got money, tht...</td>\n",
       "      <td>0</td>\n",
       "    </tr>\n",
       "    <tr>\n",
       "      <th>2972</th>\n",
       "      <td>Height of Confidence: All the Aeronautics prof...</td>\n",
       "      <td>0</td>\n",
       "    </tr>\n",
       "    <tr>\n",
       "      <th>1568</th>\n",
       "      <td>whatever, im pretty pissed off.\\n</td>\n",
       "      <td>0</td>\n",
       "    </tr>\n",
       "    <tr>\n",
       "      <th>3166</th>\n",
       "      <td>Cheers for the card ... Is it that time of yea...</td>\n",
       "      <td>0</td>\n",
       "    </tr>\n",
       "    <tr>\n",
       "      <th>2476</th>\n",
       "      <td>Mm i am on the way to railway\\n</td>\n",
       "      <td>0</td>\n",
       "    </tr>\n",
       "  </tbody>\n",
       "</table>\n",
       "<p>5574 rows × 2 columns</p>\n",
       "</div>"
      ],
      "text/plain": [
       "                                                    sms  label\n",
       "3905  Your 2004 account for 07XXXXXXXXX shows 786 un...      1\n",
       "4947         I'm already back home so no probably not\\n      0\n",
       "2104  Its a site to simulate the test. It just gives...      0\n",
       "3189  This is the 2nd time we have tried 2 contact u...      1\n",
       "58                             Tell where you reached\\n      0\n",
       "...                                                 ...    ...\n",
       "3805  No dude, its not fake..my frnds got money, tht...      0\n",
       "2972  Height of Confidence: All the Aeronautics prof...      0\n",
       "1568                  whatever, im pretty pissed off.\\n      0\n",
       "3166  Cheers for the card ... Is it that time of yea...      0\n",
       "2476                    Mm i am on the way to railway\\n      0\n",
       "\n",
       "[5574 rows x 2 columns]"
      ]
     },
     "execution_count": 2,
     "metadata": {},
     "output_type": "execute_result"
    }
   ],
   "source": [
    "df = pd.read_csv('train.csv', encoding = 'latin1')\n",
    "df = df.sample(frac = 1)\n",
    "df"
   ]
  },
  {
   "cell_type": "code",
   "execution_count": 3,
   "id": "31d12c90-b26f-482d-9ebd-64289833d024",
   "metadata": {
    "tags": []
   },
   "outputs": [
    {
     "data": {
      "text/plain": [
       "2"
      ]
     },
     "execution_count": 3,
     "metadata": {},
     "output_type": "execute_result"
    }
   ],
   "source": [
    "#No of a categories\n",
    "len(set(df['label']))"
   ]
  },
  {
   "cell_type": "code",
   "execution_count": 4,
   "id": "0ffab8a4-f37a-4ec2-8081-8ce694317152",
   "metadata": {
    "tags": []
   },
   "outputs": [
    {
     "name": "stdout",
     "output_type": "stream",
     "text": [
      "<class 'pandas.core.frame.DataFrame'>\n",
      "Index: 5574 entries, 3905 to 2476\n",
      "Data columns (total 2 columns):\n",
      " #   Column  Non-Null Count  Dtype \n",
      "---  ------  --------------  ----- \n",
      " 0   sms     5574 non-null   object\n",
      " 1   label   5574 non-null   int64 \n",
      "dtypes: int64(1), object(1)\n",
      "memory usage: 130.6+ KB\n"
     ]
    }
   ],
   "source": [
    "df.info()"
   ]
  },
  {
   "cell_type": "code",
   "execution_count": 5,
   "id": "bee2429b-ca41-4d0b-88c9-76b3cd0337a2",
   "metadata": {
    "tags": []
   },
   "outputs": [
    {
     "data": {
      "text/plain": [
       "label\n",
       "0    4827\n",
       "1     747\n",
       "Name: label, dtype: int64"
      ]
     },
     "execution_count": 5,
     "metadata": {},
     "output_type": "execute_result"
    }
   ],
   "source": [
    "df.groupby('label').label.count()"
   ]
  },
  {
   "cell_type": "code",
   "execution_count": 6,
   "id": "f52d8e84-c311-411e-8dd8-944d36c5dc18",
   "metadata": {
    "tags": []
   },
   "outputs": [
    {
     "data": {
      "image/png": "[encoded data removed]",
      "text/plain": [
       "<Figure size 640x480 with 1 Axes>"
      ]
     },
     "metadata": {},
     "output_type": "display_data"
    }
   ],
   "source": [
    "#Analyzing data\n",
    "df.groupby('label').label.count().plot.bar()\n",
    "plt.show()"
   ]
  },
  {
   "cell_type": "code",
   "execution_count": 7,
   "id": "13f943da-ef38-41c5-bfd8-c2b235c962aa",
   "metadata": {
    "tags": []
   },
   "outputs": [
    {
     "data": {
      "text/plain": [
       "'go until jurong point  crazy   available only in bugis n great world la e buffet    cine there got amore wat    '"
      ]
     },
     "execution_count": 7,
     "metadata": {},
     "output_type": "execute_result"
    }
   ],
   "source": [
    "# Data Cleaning using regex\n",
    "regs = re.sub(\"[^a-zA-Z]\", \" \", df['sms'][0]).lower()\n",
    "regs"
   ]
  },
  {
   "cell_type": "code",
   "execution_count": 8,
   "id": "c70c8643-ba30-431b-9c5a-a238ea9c55d8",
   "metadata": {
    "tags": []
   },
   "outputs": [
    {
     "name": "stdout",
     "output_type": "stream",
     "text": [
      "['i', 'me', 'my', 'myself', 'we', 'our', 'ours', 'ourselves', 'you', \"you're\", \"you've\", \"you'll\", \"you'd\", 'your', 'yours', 'yourself', 'yourselves', 'he', 'him', 'his', 'himself', 'she', \"she's\", 'her', 'hers', 'herself', 'it', \"it's\", 'its', 'itself', 'they', 'them', 'their', 'theirs', 'themselves', 'what', 'which', 'who', 'whom', 'this', 'that', \"that'll\", 'these', 'those', 'am', 'is', 'are', 'was', 'were', 'be', 'been', 'being', 'have', 'has', 'had', 'having', 'do', 'does', 'did', 'doing', 'a', 'an', 'the', 'and', 'but', 'if', 'or', 'because', 'as', 'until', 'while', 'of', 'at', 'by', 'for', 'with', 'about', 'against', 'between', 'into', 'through', 'during', 'before', 'after', 'above', 'below', 'to', 'from', 'up', 'down', 'in', 'out', 'on', 'off', 'over', 'under', 'again', 'further', 'then', 'once', 'here', 'there', 'when', 'where', 'why', 'how', 'all', 'any', 'both', 'each', 'few', 'more', 'most', 'other', 'some', 'such', 'no', 'nor', 'not', 'only', 'own', 'same', 'so', 'than', 'too', 'very', 's', 't', 'can', 'will', 'just', 'don', \"don't\", 'should', \"should've\", 'now', 'd', 'll', 'm', 'o', 're', 've', 'y', 'ain', 'aren', \"aren't\", 'couldn', \"couldn't\", 'didn', \"didn't\", 'doesn', \"doesn't\", 'hadn', \"hadn't\", 'hasn', \"hasn't\", 'haven', \"haven't\", 'isn', \"isn't\", 'ma', 'mightn', \"mightn't\", 'mustn', \"mustn't\", 'needn', \"needn't\", 'shan', \"shan't\", 'shouldn', \"shouldn't\", 'wasn', \"wasn't\", 'weren', \"weren't\", 'won', \"won't\", 'wouldn', \"wouldn't\"]\n"
     ]
    },
    {
     "name": "stderr",
     "output_type": "stream",
     "text": [
      "[nltk_data] Downloading package stopwords to\n",
      "[nltk_data]     C:\\Users\\user\\AppData\\Roaming\\nltk_data...\n",
      "[nltk_data]   Package stopwords is already up-to-date!\n"
     ]
    }
   ],
   "source": [
    "#stop words\n",
    "nltk.download('stopwords')\n",
    "words = stopwords.words(\"english\")\n",
    "print(words)"
   ]
  },
  {
   "cell_type": "code",
   "execution_count": 9,
   "id": "f38b5278-5f58-4663-8035-8126a813358b",
   "metadata": {
    "tags": []
   },
   "outputs": [
    {
     "data": {
      "text/plain": [
       "'i am love comput'"
      ]
     },
     "execution_count": 9,
     "metadata": {},
     "output_type": "execute_result"
    }
   ],
   "source": [
    "# Data Cleaning using stemmer\n",
    "\n",
    "stemmer = PorterStemmer()\n",
    "data = \"I am loving computing\".split()\n",
    "\" \".join([stemmer.stem(i) for i in data])\n",
    "# stemmer.stem(\"\")"
   ]
  },
  {
   "cell_type": "code",
   "execution_count": 10,
   "id": "a6699ec3-4d24-4488-a3da-f42ac65579d7",
   "metadata": {
    "tags": []
   },
   "outputs": [
    {
     "data": {
      "text/plain": [
       "'go jurong point crazy available bugis n great world la e buffet cine got amore wat'"
      ]
     },
     "execution_count": 10,
     "metadata": {},
     "output_type": "execute_result"
    }
   ],
   "source": [
    "# Data Cleaning removing stopwords\n",
    "words = stopwords.words(\"english\")\n",
    "without_stop_words_of_a_news = \" \".join([i for i in regs.lower().split() if i not in words])\n",
    "without_stop_words_of_a_news"
   ]
  },
  {
   "cell_type": "code",
   "execution_count": 11,
   "id": "b1688006-9be6-46ad-9ec1-e27647c6ec4f",
   "metadata": {
    "tags": []
   },
   "outputs": [
    {
     "data": {
      "text/html": [
       "<div>\n",
       "<style scoped>\n",
       "    .dataframe tbody tr th:only-of-type {\n",
       "        vertical-align: middle;\n",
       "    }\n",
       "\n",
       "    .dataframe tbody tr th {\n",
       "        vertical-align: top;\n",
       "    }\n",
       "\n",
       "    .dataframe thead th {\n",
       "        text-align: right;\n",
       "    }\n",
       "</style>\n",
       "<table border=\"1\" class=\"dataframe\">\n",
       "  <thead>\n",
       "    <tr style=\"text-align: right;\">\n",
       "      <th></th>\n",
       "      <th>sms</th>\n",
       "      <th>label</th>\n",
       "      <th>cleaned</th>\n",
       "    </tr>\n",
       "  </thead>\n",
       "  <tbody>\n",
       "    <tr>\n",
       "      <th>3905</th>\n",
       "      <td>Your 2004 account for 07XXXXXXXXX shows 786 un...</td>\n",
       "      <td>1</td>\n",
       "      <td>your 2004 account for 07xxxxxxxxx show 786 unr...</td>\n",
       "    </tr>\n",
       "    <tr>\n",
       "      <th>4947</th>\n",
       "      <td>I'm already back home so no probably not\\n</td>\n",
       "      <td>0</td>\n",
       "      <td>i'm alreadi back home so no probabl not</td>\n",
       "    </tr>\n",
       "    <tr>\n",
       "      <th>2104</th>\n",
       "      <td>Its a site to simulate the test. It just gives...</td>\n",
       "      <td>0</td>\n",
       "      <td>it a site to simul the test. it just give you ...</td>\n",
       "    </tr>\n",
       "    <tr>\n",
       "      <th>3189</th>\n",
       "      <td>This is the 2nd time we have tried 2 contact u...</td>\n",
       "      <td>1</td>\n",
       "      <td>thi is the 2nd time we have tri 2 contact u. u...</td>\n",
       "    </tr>\n",
       "    <tr>\n",
       "      <th>58</th>\n",
       "      <td>Tell where you reached\\n</td>\n",
       "      <td>0</td>\n",
       "      <td>tell where you reach</td>\n",
       "    </tr>\n",
       "    <tr>\n",
       "      <th>...</th>\n",
       "      <td>...</td>\n",
       "      <td>...</td>\n",
       "      <td>...</td>\n",
       "    </tr>\n",
       "    <tr>\n",
       "      <th>3805</th>\n",
       "      <td>No dude, its not fake..my frnds got money, tht...</td>\n",
       "      <td>0</td>\n",
       "      <td>no dude, it not fake..mi frnd got money, tht y...</td>\n",
       "    </tr>\n",
       "    <tr>\n",
       "      <th>2972</th>\n",
       "      <td>Height of Confidence: All the Aeronautics prof...</td>\n",
       "      <td>0</td>\n",
       "      <td>height of confidence: all the aeronaut profess...</td>\n",
       "    </tr>\n",
       "    <tr>\n",
       "      <th>1568</th>\n",
       "      <td>whatever, im pretty pissed off.\\n</td>\n",
       "      <td>0</td>\n",
       "      <td>whatever, im pretti piss off.</td>\n",
       "    </tr>\n",
       "    <tr>\n",
       "      <th>3166</th>\n",
       "      <td>Cheers for the card ... Is it that time of yea...</td>\n",
       "      <td>0</td>\n",
       "      <td>cheer for the card ... is it that time of year...</td>\n",
       "    </tr>\n",
       "    <tr>\n",
       "      <th>2476</th>\n",
       "      <td>Mm i am on the way to railway\\n</td>\n",
       "      <td>0</td>\n",
       "      <td>mm i am on the way to railway</td>\n",
       "    </tr>\n",
       "  </tbody>\n",
       "</table>\n",
       "<p>5574 rows × 3 columns</p>\n",
       "</div>"
      ],
      "text/plain": [
       "                                                    sms  label  \\\n",
       "3905  Your 2004 account for 07XXXXXXXXX shows 786 un...      1   \n",
       "4947         I'm already back home so no probably not\\n      0   \n",
       "2104  Its a site to simulate the test. It just gives...      0   \n",
       "3189  This is the 2nd time we have tried 2 contact u...      1   \n",
       "58                             Tell where you reached\\n      0   \n",
       "...                                                 ...    ...   \n",
       "3805  No dude, its not fake..my frnds got money, tht...      0   \n",
       "2972  Height of Confidence: All the Aeronautics prof...      0   \n",
       "1568                  whatever, im pretty pissed off.\\n      0   \n",
       "3166  Cheers for the card ... Is it that time of yea...      0   \n",
       "2476                    Mm i am on the way to railway\\n      0   \n",
       "\n",
       "                                                cleaned  \n",
       "3905  your 2004 account for 07xxxxxxxxx show 786 unr...  \n",
       "4947            i'm alreadi back home so no probabl not  \n",
       "2104  it a site to simul the test. it just give you ...  \n",
       "3189  thi is the 2nd time we have tri 2 contact u. u...  \n",
       "58                                 tell where you reach  \n",
       "...                                                 ...  \n",
       "3805  no dude, it not fake..mi frnd got money, tht y...  \n",
       "2972  height of confidence: all the aeronaut profess...  \n",
       "1568                      whatever, im pretti piss off.  \n",
       "3166  cheer for the card ... is it that time of year...  \n",
       "2476                      mm i am on the way to railway  \n",
       "\n",
       "[5574 rows x 3 columns]"
      ]
     },
     "execution_count": 11,
     "metadata": {},
     "output_type": "execute_result"
    }
   ],
   "source": [
    "# Doing all cleaning process using regex, stemmer, stopwords for all data\n",
    "df['cleaned'] = list(filter(lambda x: [i for i in re.sub(\"[^a-zA-Z]\", \" \", x)],df['sms']))\n",
    "df['cleaned'] = df['cleaned'].apply(lambda x: \" \".join([stemmer.stem(i) for i in x.lower().split()]))\n",
    "df"
   ]
  },
  {
   "cell_type": "code",
   "execution_count": 12,
   "id": "1d926d2c-9a98-49bd-a8dd-4ecf6c9e57ea",
   "metadata": {
    "tags": []
   },
   "outputs": [
    {
     "name": "stderr",
     "output_type": "stream",
     "text": [
      "[nltk_data] Downloading package stopwords to\n",
      "[nltk_data]     C:\\Users\\user\\AppData\\Roaming\\nltk_data...\n",
      "[nltk_data]   Package stopwords is already up-to-date!\n"
     ]
    },
    {
     "data": {
      "text/html": [
       "<div>\n",
       "<style scoped>\n",
       "    .dataframe tbody tr th:only-of-type {\n",
       "        vertical-align: middle;\n",
       "    }\n",
       "\n",
       "    .dataframe tbody tr th {\n",
       "        vertical-align: top;\n",
       "    }\n",
       "\n",
       "    .dataframe thead th {\n",
       "        text-align: right;\n",
       "    }\n",
       "</style>\n",
       "<table border=\"1\" class=\"dataframe\">\n",
       "  <thead>\n",
       "    <tr style=\"text-align: right;\">\n",
       "      <th></th>\n",
       "      <th>sms</th>\n",
       "      <th>label</th>\n",
       "      <th>cleaned</th>\n",
       "    </tr>\n",
       "  </thead>\n",
       "  <tbody>\n",
       "    <tr>\n",
       "      <th>3905</th>\n",
       "      <td>Your 2004 account for 07XXXXXXXXX shows 786 un...</td>\n",
       "      <td>1</td>\n",
       "      <td>account xxxxxxxxx show unredeem point claim ca...</td>\n",
       "    </tr>\n",
       "    <tr>\n",
       "      <th>4947</th>\n",
       "      <td>I'm already back home so no probably not\\n</td>\n",
       "      <td>0</td>\n",
       "      <td>alreadi back home probabl</td>\n",
       "    </tr>\n",
       "    <tr>\n",
       "      <th>2104</th>\n",
       "      <td>Its a site to simulate the test. It just gives...</td>\n",
       "      <td>0</td>\n",
       "      <td>site simul test give veri tough question test ...</td>\n",
       "    </tr>\n",
       "    <tr>\n",
       "      <th>3189</th>\n",
       "      <td>This is the 2nd time we have tried 2 contact u...</td>\n",
       "      <td>1</td>\n",
       "      <td>thi nd time tri contact u u pound prize claim ...</td>\n",
       "    </tr>\n",
       "    <tr>\n",
       "      <th>58</th>\n",
       "      <td>Tell where you reached\\n</td>\n",
       "      <td>0</td>\n",
       "      <td>tell reach</td>\n",
       "    </tr>\n",
       "    <tr>\n",
       "      <th>...</th>\n",
       "      <td>...</td>\n",
       "      <td>...</td>\n",
       "      <td>...</td>\n",
       "    </tr>\n",
       "    <tr>\n",
       "      <th>3805</th>\n",
       "      <td>No dude, its not fake..my frnds got money, tht...</td>\n",
       "      <td>0</td>\n",
       "      <td>dude fake mi frnd got money tht reffer u u mem...</td>\n",
       "    </tr>\n",
       "    <tr>\n",
       "      <th>2972</th>\n",
       "      <td>Height of Confidence: All the Aeronautics prof...</td>\n",
       "      <td>0</td>\n",
       "      <td>height confid aeronaut professor wer calld amp...</td>\n",
       "    </tr>\n",
       "    <tr>\n",
       "      <th>1568</th>\n",
       "      <td>whatever, im pretty pissed off.\\n</td>\n",
       "      <td>0</td>\n",
       "      <td>whatev im pretti piss</td>\n",
       "    </tr>\n",
       "    <tr>\n",
       "      <th>3166</th>\n",
       "      <td>Cheers for the card ... Is it that time of yea...</td>\n",
       "      <td>0</td>\n",
       "      <td>cheer card time year alreadi</td>\n",
       "    </tr>\n",
       "    <tr>\n",
       "      <th>2476</th>\n",
       "      <td>Mm i am on the way to railway\\n</td>\n",
       "      <td>0</td>\n",
       "      <td>mm way railway</td>\n",
       "    </tr>\n",
       "  </tbody>\n",
       "</table>\n",
       "<p>5574 rows × 3 columns</p>\n",
       "</div>"
      ],
      "text/plain": [
       "                                                    sms  label  \\\n",
       "3905  Your 2004 account for 07XXXXXXXXX shows 786 un...      1   \n",
       "4947         I'm already back home so no probably not\\n      0   \n",
       "2104  Its a site to simulate the test. It just gives...      0   \n",
       "3189  This is the 2nd time we have tried 2 contact u...      1   \n",
       "58                             Tell where you reached\\n      0   \n",
       "...                                                 ...    ...   \n",
       "3805  No dude, its not fake..my frnds got money, tht...      0   \n",
       "2972  Height of Confidence: All the Aeronautics prof...      0   \n",
       "1568                  whatever, im pretty pissed off.\\n      0   \n",
       "3166  Cheers for the card ... Is it that time of yea...      0   \n",
       "2476                    Mm i am on the way to railway\\n      0   \n",
       "\n",
       "                                                cleaned  \n",
       "3905  account xxxxxxxxx show unredeem point claim ca...  \n",
       "4947                          alreadi back home probabl  \n",
       "2104  site simul test give veri tough question test ...  \n",
       "3189  thi nd time tri contact u u pound prize claim ...  \n",
       "58                                           tell reach  \n",
       "...                                                 ...  \n",
       "3805  dude fake mi frnd got money tht reffer u u mem...  \n",
       "2972  height confid aeronaut professor wer calld amp...  \n",
       "1568                              whatev im pretti piss  \n",
       "3166                       cheer card time year alreadi  \n",
       "2476                                     mm way railway  \n",
       "\n",
       "[5574 rows x 3 columns]"
      ]
     },
     "execution_count": 12,
     "metadata": {},
     "output_type": "execute_result"
    }
   ],
   "source": [
    "#cleaning dataset\n",
    "nltk.download('stopwords')\n",
    "stemmer = PorterStemmer()\n",
    "words = stopwords.words(\"english\")\n",
    "words.extend(['a','an','the'])\n",
    "df['cleaned'] = df['cleaned'].apply(lambda x: \" \".join([stemmer.stem(i) for i in re.sub(\"[^a-zA-Z]\", \" \", x.lower()).split() if i not in words]).lower())\n",
    "# df['newcleaned'] = [(i for i in list(df['cleaned'])).split() if i not in words ]\n",
    "df"
   ]
  },
  {
   "cell_type": "code",
   "execution_count": 13,
   "id": "6645d299-3aa0-4800-bc09-e8b36e0e9ef8",
   "metadata": {
    "tags": []
   },
   "outputs": [],
   "source": [
    "df.to_csv('cleaned_news.csv')"
   ]
  },
  {
   "cell_type": "code",
   "execution_count": 14,
   "id": "5114b7d6-c970-4ef8-8511-1f4c41f46643",
   "metadata": {
    "tags": []
   },
   "outputs": [],
   "source": [
    "# df['cleaned'] = df['text'].apply(lambda x: \" \".join([stemmer.stem(i) for i in re.sub(\"[^a-zA-Z]\", \" \", x).split() ]).lower())\n",
    "# df"
   ]
  },
  {
   "cell_type": "code",
   "execution_count": 15,
   "id": "8f8d1faf-6ec1-46c2-9e33-1cf3686b674c",
   "metadata": {
    "tags": []
   },
   "outputs": [],
   "source": [
    "# print(words)"
   ]
  },
  {
   "cell_type": "code",
   "execution_count": 16,
   "id": "3ba65591-4262-49c9-a23b-a440956bf3e2",
   "metadata": {
    "tags": []
   },
   "outputs": [],
   "source": [
    "# words = stopwords.words(\"nepali\")\n",
    "# words"
   ]
  },
  {
   "cell_type": "code",
   "execution_count": 17,
   "id": "da387374-a688-4ce1-8bf1-f2e57b3977d7",
   "metadata": {
    "tags": []
   },
   "outputs": [],
   "source": [
    "# df['cleaned'] = df['text'].apply(lambda x: \" \".join([stemmer.stem(i) for i in re.sub(\"[^a-zA-Z]\", \" \", x).split() if i not in words]).lower())\n",
    "# df"
   ]
  },
  {
   "cell_type": "code",
   "execution_count": 18,
   "id": "6158589e-2615-417f-ab04-fbb9c1f8b25a",
   "metadata": {
    "tags": []
   },
   "outputs": [],
   "source": [
    "# Training model\n",
    "from sklearn.linear_model import LogisticRegression\n",
    "log_regression = LogisticRegression()\n",
    "\n",
    "vectorizer = TfidfVectorizer(stop_words=\"english\")\n",
    "X = df['cleaned']\n",
    "Y = df['label']\n",
    "\n",
    "X_train, X_test, y_train, y_test = train_test_split(X, Y, test_size=0.15) #Splitting dataset\n",
    "\n",
    "# #Creating Pipeline\n",
    "pipeline = Pipeline([('vect', vectorizer),\n",
    "                     ('chi',  SelectKBest(chi2, k=2000)),\n",
    "                     ('clf', LogisticRegression(random_state=1))])\n",
    "\n",
    "# from sklearn.pipeline import Pipeline\n",
    "# from sklearn.svm import SVC\n",
    "# pipeline = Pipeline([\n",
    "#     ('bow', CountVectorizer(analyzer=text_process)),  # strings to token integer counts\n",
    "#     ('tfidf', TfidfTransformer()),  # integer counts to weighted TF-IDF scores\n",
    "#     ('classifier', SVC()),  # train on TF-IDF vectors w/ SVM\n",
    "# ])\n",
    "\n",
    "\n",
    "# #Training model\n",
    "model = pipeline.fit(X_train, y_train)\n",
    "\n",
    "# #Creating pickle file\n",
    "# with open('LogisticRegression.pickle', 'wb') as f:\n",
    "#     pickle.dump(model, f)"
   ]
  },
  {
   "cell_type": "code",
   "execution_count": 19,
   "id": "42585346-5406-48dd-8f3f-5e650a89e071",
   "metadata": {
    "tags": []
   },
   "outputs": [
    {
     "name": "stdout",
     "output_type": "stream",
     "text": [
      "2985    said right giggl saw u would possibl first per...\n",
      "546                                           ani special\n",
      "3189    thi nd time tri contact u u pound prize claim ...\n",
      "5570                                b go esplanad fr home\n",
      "5472                                 thought slide enough\n",
      "                              ...                        \n",
      "403                                    hair cream ha ship\n",
      "3744                  nah wednesday bring mini cheeto bag\n",
      "507        mayb westshor hyde park villag place near hous\n",
      "382               yeah sure give coupl minut track wallet\n",
      "4255                                   cloth jewelri trip\n",
      "Name: cleaned, Length: 837, dtype: object 2985    0\n",
      "546     0\n",
      "3189    1\n",
      "5570    0\n",
      "5472    0\n",
      "       ..\n",
      "403     0\n",
      "3744    0\n",
      "507     0\n",
      "382     0\n",
      "4255    0\n",
      "Name: label, Length: 837, dtype: int64\n"
     ]
    }
   ],
   "source": [
    "print(X_test,y_test)"
   ]
  },
  {
   "cell_type": "code",
   "execution_count": 20,
   "id": "22a4dd81-0b3f-4c75-9f9b-37a2e241ea76",
   "metadata": {
    "tags": []
   },
   "outputs": [
    {
     "name": "stdout",
     "output_type": "stream",
     "text": [
      "0.9713261648745519\n",
      "\n",
      "\n",
      "[0 0 1 0 0 0 0 0 0 0 0 0 1 0 0 0 0 0 0 0 0 1 0 0 0 1 0 0 0 0 0 0 0 0 0 0 0\n",
      " 0 1 0 0 0 0 0 0 0 0 0 0 0 0 0 0 0 0 0 0 1 0 1 1 0 0 0 0 0 0 0 0 0 1 0 0 0\n",
      " 0 0 1 0 0 0 0 1 0 0 0 0 0 0 1 0 0 0 0 0 1 1 0 1 1 0 0 0 0 0 0 1 0 0 0 0 1\n",
      " 0 0 0 0 0 0 0 0 0 0 0 0 0 0 0 0 0 0 0 0 0 0 0 0 0 0 0 1 0 0 0 0 0 0 0 0 0\n",
      " 0 1 0 0 0 0 0 0 0 0 0 1 0 0 0 0 0 0 0 0 1 0 1 0 0 0 1 0 1 0 0 0 0 0 0 0 0\n",
      " 0 0 1 0 1 0 0 0 0 0 0 0 0 0 0 0 0 0 0 0 0 0 0 0 0 0 0 0 0 0 0 0 0 0 0 0 0\n",
      " 0 0 0 0 1 0 0 0 0 0 0 0 0 1 0 0 0 0 0 1 0 0 0 1 0 0 0 0 0 0 0 0 1 0 0 0 0\n",
      " 0 0 0 0 0 0 0 0 0 0 1 0 0 0 0 0 0 0 0 0 0 0 1 0 0 0 0 0 0 0 0 0 0 0 0 0 0\n",
      " 0 0 0 0 0 0 0 0 0 0 0 0 1 0 0 0 0 0 0 0 0 0 1 0 0 0 0 0 0 0 0 0 0 0 0 0 0\n",
      " 0 0 0 0 0 0 0 0 0 0 0 0 0 0 1 0 0 0 0 0 0 0 0 0 0 0 0 1 0 0 0 0 0 0 0 0 0\n",
      " 0 0 0 0 0 0 0 0 0 0 0 0 0 0 0 0 0 0 0 0 0 0 0 0 0 0 0 0 0 0 0 0 0 0 0 0 0\n",
      " 0 0 1 0 0 0 1 0 0 0 0 0 0 0 0 0 0 0 0 0 0 0 1 0 1 0 0 0 0 1 0 0 0 0 0 0 0\n",
      " 1 0 0 1 0 0 0 0 0 1 0 0 0 0 0 0 0 0 1 1 0 0 0 0 0 0 0 0 0 0 1 0 0 0 0 0 0\n",
      " 0 0 0 0 0 0 0 0 0 0 0 0 1 0 0 0 0 0 0 0 0 0 0 0 0 0 0 0 0 0 0 0 0 0 0 0 0\n",
      " 0 0 0 0 0 0 0 0 0 0 0 0 0 1 0 0 0 0 1 0 0 0 1 0 0 0 0 0 0 0 0 1 0 0 0 0 0\n",
      " 0 1 0 0 0 0 0 0 0 0 0 0 0 0 1 0 1 0 0 0 0 0 0 1 0 0 0 0 1 0 0 0 0 1 0 0 0\n",
      " 0 0 0 0 0 0 0 0 0 0 0 0 0 1 0 0 0 0 0 0 0 0 0 0 0 0 0 0 0 0 0 0 0 0 0 0 0\n",
      " 1 0 0 1 0 0 0 0 0 0 0 0 0 0 0 0 0 0 0 0 1 1 0 1 0 0 1 0 0 0 0 0 0 0 0 0 0\n",
      " 0 0 0 0 0 0 0 0 0 0 0 0 0 1 0 0 0 0 1 1 0 0 0 0 1 0 0 0 1 0 0 1 0 0 0 0 0\n",
      " 0 0 0 0 0 0 0 0 0 1 0 0 0 0 1 0 0 0 0 0 1 1 0 1 0 0 0 0 0 1 0 0 0 0 0 1 0\n",
      " 0 0 0 0 0 0 0 0 0 0 0 0 0 0 0 0 0 0 0 1 1 0 0 0 1 1 0 0 0 0 0 0 0 0 1 0 0\n",
      " 0 0 0 0 1 0 0 1 0 0 0 0 0 0 0 0 0 0 0 0 0 0 0 0 0 0 0 0 0 0 0 0 0 0 0 0 1\n",
      " 0 0 0 0 1 0 0 0 0 1 0 0 0 0 0 0 0 0 0 0 0 0 0]\n"
     ]
    }
   ],
   "source": [
    "#Accuracy\n",
    "from sklearn.metrics import accuracy_score\n",
    "predict_news_cat = model.predict(X_test)\n",
    "print(accuracy_score(y_test,predict_news_cat))\n",
    "print('\\n')\n",
    "print(predict_news_cat)"
   ]
  },
  {
   "cell_type": "code",
   "execution_count": 21,
   "id": "b90dccde-003f-4336-92d0-f7860178d3c4",
   "metadata": {
    "tags": []
   },
   "outputs": [
    {
     "name": "stdout",
     "output_type": "stream",
     "text": [
      "              precision    recall  f1-score   support\n",
      "\n",
      "           0       1.00      0.97      0.98       747\n",
      "           1       0.79      1.00      0.88        90\n",
      "\n",
      "    accuracy                           0.97       837\n",
      "   macro avg       0.89      0.98      0.93       837\n",
      "weighted avg       0.98      0.97      0.97       837\n",
      "\n",
      "[[723  24]\n",
      " [  0  90]]\n"
     ]
    }
   ],
   "source": [
    "# confusion matrix and classification report(precision, recall, F1-score)\n",
    "ytest = np.array(y_test)\n",
    "print(classification_report(model.predict(X_test),ytest))\n",
    "print(confusion_matrix(model.predict(X_test),ytest))"
   ]
  },
  {
   "cell_type": "code",
   "execution_count": 22,
   "id": "78108461-6d38-4779-905e-4fa491417146",
   "metadata": {
    "tags": []
   },
   "outputs": [
    {
     "data": {
      "image/png": "[encoded data removed]",
      "text/plain": [
       "<Figure size 800x800 with 2 Axes>"
      ]
     },
     "metadata": {},
     "output_type": "display_data"
    }
   ],
   "source": [
    "import matplotlib.pyplot as plt\n",
    "from sklearn.metrics import ConfusionMatrixDisplay\n",
    "cm = confusion_matrix(model.predict(X_test),ytest)\n",
    "# Change figure size and increase dpi for better resolution\n",
    "# and get reference to axes object\n",
    "fig, ax = plt.subplots(figsize=(8,8), dpi=100)\n",
    "class_names = ['0','1']\n",
    "# initialize using the raw 2D confusion matrix\n",
    "# and output labels (in our case, it's 0 and 1)\n",
    "display = ConfusionMatrixDisplay(cm, display_labels=class_names)\n",
    "\n",
    "# set the plot title using the axes object\n",
    "ax.set(title='Confusion Matrix for the text classification')\n",
    "\n",
    "# show the plot.\n",
    "# Pass the parameter ax to show customizations (ex. title)\n",
    "display.plot(ax=ax);"
   ]
  },
  {
   "cell_type": "code",
   "execution_count": null,
   "id": "0262330a-5f95-4160-914e-9bf3b1dbf2e9",
   "metadata": {},
   "outputs": [],
   "source": []
  }
 ],
 "metadata": {
  "kernelspec": {
   "display_name": "Python 3 (ipykernel)",
   "language": "python",
   "name": "python3"
  },
  "language_info": {
   "codemirror_mode": {
    "name": "ipython",
    "version": 3
   },
   "file_extension": ".py",
   "mimetype": "text/x-python",
   "name": "python",
   "nbconvert_exporter": "python",
   "pygments_lexer": "ipython3",
   "version": "3.11.5"
  }
 },
 "nbformat": 4,
 "nbformat_minor": 5
}
